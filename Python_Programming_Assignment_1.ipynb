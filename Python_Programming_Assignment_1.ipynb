{
 "cells": [
  {
   "cell_type": "code",
   "execution_count": 2,
   "id": "54552884",
   "metadata": {},
   "outputs": [
    {
     "name": "stdout",
     "output_type": "stream",
     "text": [
      "Hello Python\n"
     ]
    }
   ],
   "source": [
    "#1. print hello world program\n",
    "print(\"Hello Python\")"
   ]
  },
  {
   "cell_type": "code",
   "execution_count": 7,
   "id": "e79772c4",
   "metadata": {},
   "outputs": [
    {
     "name": "stdout",
     "output_type": "stream",
     "text": [
      "addition of 2 nummbers:7\n",
      "division of 2 numbers:2.0\n"
     ]
    }
   ],
   "source": [
    "#2 Below are the arthematical addition and division operations\n",
    "a=3\n",
    "b=4\n",
    "print(\"addition of 2 nummbers:\"+ str((a+b)))\n",
    "c=12\n",
    "d=6\n",
    "print(\"division of 2 numbers:\"+ str((c/d)))"
   ]
  },
  {
   "cell_type": "code",
   "execution_count": 11,
   "id": "7281d9bc",
   "metadata": {},
   "outputs": [
    {
     "name": "stdout",
     "output_type": "stream",
     "text": [
      "Area of the triangle:45.0\n"
     ]
    }
   ],
   "source": [
    "#3.Below logic will calculate the area of the triangle \n",
    "#formula for calculating the area of the triangle: 1/2*b*h\n",
    "b=10\n",
    "h=9\n",
    "print(\"Area of the triangle:\"+str(1/2*b*h))"
   ]
  },
  {
   "cell_type": "code",
   "execution_count": 12,
   "id": "46753c43",
   "metadata": {},
   "outputs": [],
   "source": [
    "#4. swap the 2 variables \n",
    "#with using temp variable\n",
    "a=2\n",
    "b=3\n",
    "temp=a\n",
    "a=b\n",
    "b=temp\n",
    "#without using temp variable\n",
    "a=a+b\n",
    "b = a-b\n",
    "a=a-b"
   ]
  },
  {
   "cell_type": "code",
   "execution_count": 20,
   "id": "15ac3905",
   "metadata": {},
   "outputs": [
    {
     "name": "stdout",
     "output_type": "stream",
     "text": [
      "5\n"
     ]
    }
   ],
   "source": [
    "#5.Below will generate the random number in between the values 1 and 9 \n",
    "import random\n",
    "print(random.randint(1, 9))"
   ]
  },
  {
   "cell_type": "code",
   "execution_count": null,
   "id": "1ad539eb",
   "metadata": {},
   "outputs": [],
   "source": []
  },
  {
   "cell_type": "code",
   "execution_count": null,
   "id": "9b27d5c7",
   "metadata": {},
   "outputs": [],
   "source": []
  }
 ],
 "metadata": {
  "kernelspec": {
   "display_name": "Python 3",
   "language": "python",
   "name": "python3"
  },
  "language_info": {
   "codemirror_mode": {
    "name": "ipython",
    "version": 3
   },
   "file_extension": ".py",
   "mimetype": "text/x-python",
   "name": "python",
   "nbconvert_exporter": "python",
   "pygments_lexer": "ipython3",
   "version": "3.8.8"
  }
 },
 "nbformat": 4,
 "nbformat_minor": 5
}
