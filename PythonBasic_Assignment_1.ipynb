{
 "cells": [
  {
   "cell_type": "markdown",
   "id": "f4a1cc93",
   "metadata": {},
   "source": [
    "1. -87.8, 6, 'hello' are the values\n",
    "        - -87.8 is a floating point value\n",
    "        - 6 is a integer value\n",
    "        - 'hello' is a string value\n",
    "    +, -, *, / are called as operators/expressions"
   ]
  },
  {
   "cell_type": "markdown",
   "id": "e578704f",
   "metadata": {},
   "source": [
    "2. string is a datatype and which is used to represent string type values \n",
    "   variable is nothing but reserved memory location and is used to hold/store some value and value can be either integer/string/floating point/"
   ]
  },
  {
   "cell_type": "markdown",
   "id": "066aafcd",
   "metadata": {},
   "source": [
    "3. int, string, float, bool are the four different data types in python\n",
    "       - int data type is used to store the integer values\n",
    "          Example: a = 5, b=6\n",
    "       - str data type is used to store the string values \n",
    "          Example name = \"vasu\"\n",
    "       - bool data type is used to store boolean True/False values\n",
    "          Example  flag = True, flag=False\n",
    "       - float data type is used to store floating point values\n",
    "          Example price = 25.30"
   ]
  },
  {
   "cell_type": "markdown",
   "id": "d02b9170",
   "metadata": {},
   "source": [
    "4. expression is a combination of variables, values and the operators\n",
    "   once we enter the expression, an interpreter will evluate the expression and returns the result\n",
    "   expression will be evaluated based on the operator precedence,\n",
    "   whechever the operator has highest priority that one will be executed first\n",
    "   There are different types of expressions in python \n",
    "          - Arthimatic expressions\n",
    "              Addition, subtraction, multiplication and idivision operations will be performed\n",
    "          - relational exprssions\n",
    "              comparison operations will be performed based on relational expressions\n",
    "          - logical expressions\n",
    "              Logical expressions will be performed based on the logical operatiors\n",
    "          - bitwise expressions and so on.\n",
    "              bitwise expressions will be performed based on bitwise operators.\n",
    "        \n",
    "   "
   ]
  },
  {
   "cell_type": "markdown",
   "id": "539615b2",
   "metadata": {},
   "source": [
    "5. Every line in python we can treat it as statement and statment means it does something \n",
    "     Examples like  print is a statment, if and else are conditional staments and assignment statements \n",
    "     Statement can consists of expressions as well in between.\n",
    "         print(\"hello world\") \n",
    "         a=5\n",
    "         print (c+d) - here c+d is expression and  whole line we can consider as statement.\n",
    "        \n",
    "   Expression is combination of variables and values and operators. expression will be evaluated and yields some value\n",
    "   expression can be a part of statement.\n",
    "         c=10\n",
    "         print(\"values are:\"+(c+10))\n"
   ]
  },
  {
   "cell_type": "code",
   "execution_count": null,
   "id": "b2c3964f",
   "metadata": {},
   "outputs": [],
   "source": [
    "6. 22"
   ]
  },
  {
   "cell_type": "code",
   "execution_count": 17,
   "id": "809009b8",
   "metadata": {},
   "outputs": [],
   "source": [
    "7.'spamspamspam'\n",
    "  'spamspamspam'"
   ]
  },
  {
   "cell_type": "markdown",
   "id": "f6fbb11c",
   "metadata": {},
   "source": [
    "8. when we declare variables we should follow some convention.\n",
    "    first thing variable names should either starts with letter or _\n",
    "    variable names can't starts with numbers \n",
    "    variable names should only contain alphanumeraic characters and underscores\n",
    "    variable names are case sensitive\n",
    "    \n",
    "   so as per convention rules 100 is not valid varaible because it has started with the digit\n",
    "   eggs is a valid variable because it has  started with the letter and met the the above criteria.\n",
    "    "
   ]
  },
  {
   "cell_type": "markdown",
   "id": "96cb34a7",
   "metadata": {},
   "source": [
    "9.int(), float(), str() are three functions can be used to get the interger, string, floating type of values."
   ]
  },
  {
   "cell_type": "markdown",
   "id": "71d47b01",
   "metadata": {},
   "source": [
    "10.'I have eaten' + 99 + 'burritos.' this gives exception because we are concatinating string with the interger value\n",
    "    and pyhton gives the exception as 'cannot concanate the string with the integer value'\n",
    "    to fix this we should convert 99 to string and then this will be resolved\n",
    "    so the fix should be : 'I have eaten' + str(99) + 'burritos.' "
   ]
  }
 ],
 "metadata": {
  "kernelspec": {
   "display_name": "Python 3",
   "language": "python",
   "name": "python3"
  },
  "language_info": {
   "codemirror_mode": {
    "name": "ipython",
    "version": 3
   },
   "file_extension": ".py",
   "mimetype": "text/x-python",
   "name": "python",
   "nbconvert_exporter": "python",
   "pygments_lexer": "ipython3",
   "version": "3.8.8"
  }
 },
 "nbformat": 4,
 "nbformat_minor": 5
}
