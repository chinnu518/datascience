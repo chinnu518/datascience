{
 "cells": [
  {
   "cell_type": "code",
   "execution_count": 9,
   "id": "387afed2",
   "metadata": {},
   "outputs": [
    {
     "name": "stdout",
     "output_type": "stream",
     "text": [
      "Enter the number of kilometers:45\n",
      "45.0km equals to 27.961695Miles\n"
     ]
    }
   ],
   "source": [
    "#1. Below is the program to convert kilometers to miles\n",
    "# 1 km = 0.621371miles\n",
    "km= float(input(\"Enter the number of kilometers:\"))\n",
    "miles = km * (0.621371)\n",
    "print(\"%skm equals to %sMiles\" %(str(km), str(miles)))"
   ]
  },
  {
   "cell_type": "code",
   "execution_count": 23,
   "id": "1652f65d",
   "metadata": {},
   "outputs": [
    {
     "name": "stdout",
     "output_type": "stream",
     "text": [
      "enter the celsius temperature45\n",
      "45.00 celsius equals to 113.00 fahrenheat temperature:\n"
     ]
    }
   ],
   "source": [
    "#2. below logic will  convert the celisus to fahrenheat\n",
    "celsius = float(input(\"enter the celsius temperature\"))\n",
    "#below is the formula to convert celsius to fahrenheat temperature\n",
    "fahrenheat = (celsius*1.8)+32\n",
    "print(\"%.2f celsius equals to %.2f fahrenheat temperature:\"%(celsius, fahrenheat))"
   ]
  },
  {
   "cell_type": "code",
   "execution_count": 76,
   "id": "d195211b",
   "metadata": {
    "scrolled": true
   },
   "outputs": [
    {
     "name": "stdout",
     "output_type": "stream",
     "text": [
      "enter the year and month to display the calendar:2019 7\n",
      "Display the calendar for the year 2019 month 7:\n",
      "     July 2019\n",
      "Mo Tu We Th Fr Sa Su\n",
      " 1  2  3  4  5  6  7\n",
      " 8  9 10 11 12 13 14\n",
      "15 16 17 18 19 20 21\n",
      "22 23 24 25 26 27 28\n",
      "29 30 31\n",
      "\n",
      "enter the year to dislay the calendar2017\n",
      "Display the calendar for the year 2017:\n",
      "                                  2017\n",
      "\n",
      "      January                   February                   March\n",
      "Mo Tu We Th Fr Sa Su      Mo Tu We Th Fr Sa Su      Mo Tu We Th Fr Sa Su\n",
      "                   1             1  2  3  4  5             1  2  3  4  5\n",
      " 2  3  4  5  6  7  8       6  7  8  9 10 11 12       6  7  8  9 10 11 12\n",
      " 9 10 11 12 13 14 15      13 14 15 16 17 18 19      13 14 15 16 17 18 19\n",
      "16 17 18 19 20 21 22      20 21 22 23 24 25 26      20 21 22 23 24 25 26\n",
      "23 24 25 26 27 28 29      27 28                     27 28 29 30 31\n",
      "30 31\n",
      "\n",
      "       April                      May                       June\n",
      "Mo Tu We Th Fr Sa Su      Mo Tu We Th Fr Sa Su      Mo Tu We Th Fr Sa Su\n",
      "                1  2       1  2  3  4  5  6  7                1  2  3  4\n",
      " 3  4  5  6  7  8  9       8  9 10 11 12 13 14       5  6  7  8  9 10 11\n",
      "10 11 12 13 14 15 16      15 16 17 18 19 20 21      12 13 14 15 16 17 18\n",
      "17 18 19 20 21 22 23      22 23 24 25 26 27 28      19 20 21 22 23 24 25\n",
      "24 25 26 27 28 29 30      29 30 31                  26 27 28 29 30\n",
      "\n",
      "        July                     August                  September\n",
      "Mo Tu We Th Fr Sa Su      Mo Tu We Th Fr Sa Su      Mo Tu We Th Fr Sa Su\n",
      "                1  2          1  2  3  4  5  6                   1  2  3\n",
      " 3  4  5  6  7  8  9       7  8  9 10 11 12 13       4  5  6  7  8  9 10\n",
      "10 11 12 13 14 15 16      14 15 16 17 18 19 20      11 12 13 14 15 16 17\n",
      "17 18 19 20 21 22 23      21 22 23 24 25 26 27      18 19 20 21 22 23 24\n",
      "24 25 26 27 28 29 30      28 29 30 31               25 26 27 28 29 30\n",
      "31\n",
      "\n",
      "      October                   November                  December\n",
      "Mo Tu We Th Fr Sa Su      Mo Tu We Th Fr Sa Su      Mo Tu We Th Fr Sa Su\n",
      "                   1             1  2  3  4  5                   1  2  3\n",
      " 2  3  4  5  6  7  8       6  7  8  9 10 11 12       4  5  6  7  8  9 10\n",
      " 9 10 11 12 13 14 15      13 14 15 16 17 18 19      11 12 13 14 15 16 17\n",
      "16 17 18 19 20 21 22      20 21 22 23 24 25 26      18 19 20 21 22 23 24\n",
      "23 24 25 26 27 28 29      27 28 29 30               25 26 27 28 29 30 31\n",
      "30 31\n",
      "\n"
     ]
    }
   ],
   "source": [
    "#3. write a program to diaplay a calendar\n",
    "import calendar\n",
    "# Below function will diplay the calendar for the particular month\n",
    "year, month= input(\"enter the year and month to display the calendar:\").split()\n",
    "print(\"Display the calendar for the year %s month %s:\" %(str(year), str(month)))\n",
    "print(calendar.month(int(year), int(month)))\n",
    "# Below function will diplay the calendar for the particular year\n",
    "year = input(\"enter the year to dislay the calendar\")\n",
    "print(\"Display the calendar for the year %s:\" %(year))\n",
    "print(calendar.calendar(int(year)))"
   ]
  },
  {
   "cell_type": "code",
   "execution_count": 88,
   "id": "72d938d4",
   "metadata": {},
   "outputs": [
    {
     "name": "stdout",
     "output_type": "stream",
     "text": [
      "enter the values of a, b, c:1, 5, 6\n",
      "solution of quadratic equation are:(-2+0j), (-3+0j)\n"
     ]
    }
   ],
   "source": [
    "#4. write a program to solve quadratic equation\n",
    "# below formula is used to calculate the quadratic equation\n",
    "#quadratic equation = (-b+math.sqrt(d))/(2*a) or (-b-math.sqrt(d))/(2*a)\n",
    "import cmath\n",
    "a, b, c = map(float, input(\"enter the values of a, b, c:\").split(','))\n",
    "d = (b**2-4*a*c) # this is used to calculate the discreminant\n",
    "sol1 =(-b+cmath.sqrt(d))/(2*a)\n",
    "sol2 = (-b-cmath.sqrt(d))/(2*a)\n",
    "print(\"solution of quadratic equation are:{0}, {1}\".format(sol1, sol2))\n"
   ]
  },
  {
   "cell_type": "code",
   "execution_count": 95,
   "id": "61f807ca",
   "metadata": {},
   "outputs": [
    {
     "name": "stdout",
     "output_type": "stream",
     "text": [
      "Before swap the values of a  and b: 10 7\n",
      "Method1:After swap the values of a and b: 7 10\n",
      "Method2:After swap the values of a and b: 7 10\n",
      "Method3:After swap the values of a and b: 7 10\n",
      "Method4:After swap the values of a and b: 7 10\n"
     ]
    }
   ],
   "source": [
    "#5.Below logic will swap the two variables without using temp\n",
    "a, b=10, 7\n",
    "print(\"Before swap the values of a  and b:\", a, b)\n",
    "# method11:below works for any datatype\n",
    "a, b  = b, a\n",
    "print(\"Method1:After swap the values of a and b:\", a, b)\n",
    "#method2:below works only for postive numeric values but for negative numbers it will fail\n",
    "a, b=10, 7\n",
    "a = a+b  \n",
    "b = a-b \n",
    "a = a-b \n",
    "print(\"Method2:After swap the values of a and b:\", a, b)\n",
    "#method3: bitwise also works only for integer values\n",
    "a, b=10, 7\n",
    "a = a^b\n",
    "b=  b^a\n",
    "a=  a^b\n",
    "print(\"Method3:After swap the values of a and b:\", a, b)\n",
    "#mthod4: multiplication and division operation and it works for numeric values other thn 0\n",
    "a, b=10, 7\n",
    "a=a*b\n",
    "b =a//b\n",
    "a=a//b\n",
    "print(\"Method4:After swap the values of a and b:\", a, b)\n"
   ]
  },
  {
   "cell_type": "code",
   "execution_count": null,
   "id": "2ed5d58b",
   "metadata": {},
   "outputs": [],
   "source": []
  }
 ],
 "metadata": {
  "kernelspec": {
   "display_name": "Python 3",
   "language": "python",
   "name": "python3"
  },
  "language_info": {
   "codemirror_mode": {
    "name": "ipython",
    "version": 3
   },
   "file_extension": ".py",
   "mimetype": "text/x-python",
   "name": "python",
   "nbconvert_exporter": "python",
   "pygments_lexer": "ipython3",
   "version": "3.8.8"
  }
 },
 "nbformat": 4,
 "nbformat_minor": 5
}
